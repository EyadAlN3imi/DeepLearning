{
  "nbformat": 4,
  "nbformat_minor": 0,
  "metadata": {
    "colab": {
      "provenance": []
    },
    "kernelspec": {
      "name": "python3",
      "display_name": "Python 3"
    },
    "language_info": {
      "name": "python"
    }
  },
  "cells": [
    {
      "cell_type": "markdown",
      "source": [
        "## Dataset Information\n",
        "The purpose is to classify a given silhouette as one of four types of vehicle, using  a set of features extracted from the silhouette. The vehicle may be viewed from one of many different angles.  "
      ],
      "metadata": {
        "id": "AJac2h45az39"
      }
    },
    {
      "cell_type": "markdown",
      "source": [
        "![pytorch-logo-dark.png](data:image/png;base64,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)"
      ],
      "metadata": {
        "id": "ph_RYblBRKMV"
      }
    },
    {
      "cell_type": "markdown",
      "source": [
        "# 1.Preparing the data and getting the necessary libraries"
      ],
      "metadata": {
        "id": "Mc2ygAOvUr8i"
      }
    },
    {
      "cell_type": "markdown",
      "source": [
        "**1.1 Installing torchmetrics library**"
      ],
      "metadata": {
        "id": "9GjHF2mfdW7n"
      }
    },
    {
      "cell_type": "code",
      "source": [
        "!pip install torchmetrics"
      ],
      "metadata": {
        "colab": {
          "base_uri": "https://localhost:8080/"
        },
        "collapsed": true,
        "id": "88nKFbdpV4sN",
        "outputId": "ce09a0a2-3511-4acc-a186-eaffa1de6c56"
      },
      "execution_count": 5,
      "outputs": [
        {
          "output_type": "stream",
          "name": "stdout",
          "text": [
            "Requirement already satisfied: torchmetrics in /usr/local/lib/python3.11/dist-packages (1.6.1)\n",
            "Requirement already satisfied: numpy>1.20.0 in /usr/local/lib/python3.11/dist-packages (from torchmetrics) (1.26.4)\n",
            "Requirement already satisfied: packaging>17.1 in /usr/local/lib/python3.11/dist-packages (from torchmetrics) (24.2)\n",
            "Requirement already satisfied: torch>=2.0.0 in /usr/local/lib/python3.11/dist-packages (from torchmetrics) (2.5.1+cu124)\n",
            "Requirement already satisfied: lightning-utilities>=0.8.0 in /usr/local/lib/python3.11/dist-packages (from torchmetrics) (0.12.0)\n",
            "Requirement already satisfied: setuptools in /usr/local/lib/python3.11/dist-packages (from lightning-utilities>=0.8.0->torchmetrics) (75.1.0)\n",
            "Requirement already satisfied: typing_extensions in /usr/local/lib/python3.11/dist-packages (from lightning-utilities>=0.8.0->torchmetrics) (4.12.2)\n",
            "Requirement already satisfied: filelock in /usr/local/lib/python3.11/dist-packages (from torch>=2.0.0->torchmetrics) (3.17.0)\n",
            "Requirement already satisfied: networkx in /usr/local/lib/python3.11/dist-packages (from torch>=2.0.0->torchmetrics) (3.4.2)\n",
            "Requirement already satisfied: jinja2 in /usr/local/lib/python3.11/dist-packages (from torch>=2.0.0->torchmetrics) (3.1.5)\n",
            "Requirement already satisfied: fsspec in /usr/local/lib/python3.11/dist-packages (from torch>=2.0.0->torchmetrics) (2024.10.0)\n",
            "Requirement already satisfied: nvidia-cuda-nvrtc-cu12==12.4.127 in /usr/local/lib/python3.11/dist-packages (from torch>=2.0.0->torchmetrics) (12.4.127)\n",
            "Requirement already satisfied: nvidia-cuda-runtime-cu12==12.4.127 in /usr/local/lib/python3.11/dist-packages (from torch>=2.0.0->torchmetrics) (12.4.127)\n",
            "Requirement already satisfied: nvidia-cuda-cupti-cu12==12.4.127 in /usr/local/lib/python3.11/dist-packages (from torch>=2.0.0->torchmetrics) (12.4.127)\n",
            "Requirement already satisfied: nvidia-cudnn-cu12==9.1.0.70 in /usr/local/lib/python3.11/dist-packages (from torch>=2.0.0->torchmetrics) (9.1.0.70)\n",
            "Requirement already satisfied: nvidia-cublas-cu12==12.4.5.8 in /usr/local/lib/python3.11/dist-packages (from torch>=2.0.0->torchmetrics) (12.4.5.8)\n",
            "Requirement already satisfied: nvidia-cufft-cu12==11.2.1.3 in /usr/local/lib/python3.11/dist-packages (from torch>=2.0.0->torchmetrics) (11.2.1.3)\n",
            "Requirement already satisfied: nvidia-curand-cu12==10.3.5.147 in /usr/local/lib/python3.11/dist-packages (from torch>=2.0.0->torchmetrics) (10.3.5.147)\n",
            "Requirement already satisfied: nvidia-cusolver-cu12==11.6.1.9 in /usr/local/lib/python3.11/dist-packages (from torch>=2.0.0->torchmetrics) (11.6.1.9)\n",
            "Requirement already satisfied: nvidia-cusparse-cu12==12.3.1.170 in /usr/local/lib/python3.11/dist-packages (from torch>=2.0.0->torchmetrics) (12.3.1.170)\n",
            "Requirement already satisfied: nvidia-nccl-cu12==2.21.5 in /usr/local/lib/python3.11/dist-packages (from torch>=2.0.0->torchmetrics) (2.21.5)\n",
            "Requirement already satisfied: nvidia-nvtx-cu12==12.4.127 in /usr/local/lib/python3.11/dist-packages (from torch>=2.0.0->torchmetrics) (12.4.127)\n",
            "Requirement already satisfied: nvidia-nvjitlink-cu12==12.4.127 in /usr/local/lib/python3.11/dist-packages (from torch>=2.0.0->torchmetrics) (12.4.127)\n",
            "Requirement already satisfied: triton==3.1.0 in /usr/local/lib/python3.11/dist-packages (from torch>=2.0.0->torchmetrics) (3.1.0)\n",
            "Requirement already satisfied: sympy==1.13.1 in /usr/local/lib/python3.11/dist-packages (from torch>=2.0.0->torchmetrics) (1.13.1)\n",
            "Requirement already satisfied: mpmath<1.4,>=1.1.0 in /usr/local/lib/python3.11/dist-packages (from sympy==1.13.1->torch>=2.0.0->torchmetrics) (1.3.0)\n",
            "Requirement already satisfied: MarkupSafe>=2.0 in /usr/local/lib/python3.11/dist-packages (from jinja2->torch>=2.0.0->torchmetrics) (3.0.2)\n"
          ]
        }
      ]
    },
    {
      "cell_type": "markdown",
      "source": [
        "**1.2 importing the necessary libraries**"
      ],
      "metadata": {
        "id": "1_JRzJYMdmb6"
      }
    },
    {
      "cell_type": "code",
      "source": [
        "import warnings\n",
        "warnings.filterwarnings('ignore')\n",
        "import csv\n",
        "import pandas as pd\n",
        "import numpy as np\n",
        "import matplotlib.pyplot as plt\n",
        "import seaborn as sns\n",
        "import torch\n",
        "import torch.nn as nn\n",
        "import torch.optim as optim\n",
        "from sklearn.model_selection import train_test_split\n",
        "from sklearn.preprocessing import StandardScaler, LabelEncoder\n",
        "from imblearn.over_sampling import RandomOverSampler\n",
        "import torchmetrics"
      ],
      "metadata": {
        "id": "CJjz6zqVYlSP"
      },
      "execution_count": 6,
      "outputs": []
    },
    {
      "cell_type": "markdown",
      "source": [
        "**1.3 Transforming the data into CSV**"
      ],
      "metadata": {
        "id": "MZHnVtsgdxde"
      }
    },
    {
      "cell_type": "code",
      "source": [
        "\n",
        "df = pd.read_csv('vehicle_data.csv')\n",
        "df"
      ],
      "metadata": {
        "colab": {
          "base_uri": "https://localhost:8080/",
          "height": 0
        },
        "id": "ozSzE80FXLcs",
        "outputId": "ed0a91dc-c265-4de7-8401-7a845e3cfc8f"
      },
      "execution_count": 7,
      "outputs": [
        {
          "output_type": "execute_result",
          "data": {
            "text/plain": [
              "     COMPACTNESS  CIRCULARITY  DISTANCE_CIRCULARITY  RADIUS_RATIO  \\\n",
              "0             95           48                    83           178   \n",
              "1             91           41                    84           141   \n",
              "2            104           50                   106           209   \n",
              "3             93           41                    82           159   \n",
              "4             85           44                    70           205   \n",
              "..           ...          ...                   ...           ...   \n",
              "841           93           39                    87           183   \n",
              "842           89           46                    84           163   \n",
              "843          106           54                   101           222   \n",
              "844           86           36                    78           146   \n",
              "845           85           36                    66           123   \n",
              "\n",
              "     PR.AXIS_ASPECT_RATIO  MAX.LENGTH_ASPECT_RATIO  SCATTER_RATIO  \\\n",
              "0                      72                       10            162   \n",
              "1                      57                        9            149   \n",
              "2                      66                       10            207   \n",
              "3                      63                        9            144   \n",
              "4                     103                       52            149   \n",
              "..                    ...                      ...            ...   \n",
              "841                    64                        8            169   \n",
              "842                    66                       11            159   \n",
              "843                    67                       12            222   \n",
              "844                    58                        7            135   \n",
              "845                    55                        5            120   \n",
              "\n",
              "     ELONGATEDNESS  PR.AXIS_RECTANGULARITY  MAX.LENGTH_RECTANGULARITY  \\\n",
              "0               42                      20                        159   \n",
              "1               45                      19                        143   \n",
              "2               32                      23                        158   \n",
              "3               46                      19                        143   \n",
              "4               45                      19                        144   \n",
              "..             ...                     ...                        ...   \n",
              "841             40                      20                        134   \n",
              "842             43                      20                        159   \n",
              "843             30                      25                        173   \n",
              "844             50                      18                        124   \n",
              "845             56                      17                        128   \n",
              "\n",
              "     SCALED_VARIANCE_MAJOR_AXIS  SCALED_VARIANCE_MINOR_AXIS  \\\n",
              "0                           176                         379   \n",
              "1                           170                         330   \n",
              "2                           223                         635   \n",
              "3                           160                         309   \n",
              "4                           241                         325   \n",
              "..                          ...                         ...   \n",
              "841                         200                         422   \n",
              "842                         173                         368   \n",
              "843                         228                         721   \n",
              "844                         155                         270   \n",
              "845                         140                         212   \n",
              "\n",
              "     SCALED_RADIUS_OF_GYRATION  SKEWNESS_MAJOR_AXIS  SKEWNESS_MINOR_AXIS  \\\n",
              "0                          184                   70                    6   \n",
              "1                          158                   72                    9   \n",
              "2                          220                   73                   14   \n",
              "3                          127                   63                    6   \n",
              "4                          188                  127                    9   \n",
              "..                         ...                  ...                  ...   \n",
              "841                        149                   72                    7   \n",
              "842                        176                   72                    1   \n",
              "843                        200                   70                    3   \n",
              "844                        148                   66                    0   \n",
              "845                        131                   73                    1   \n",
              "\n",
              "     KURTOSIS_MINOR_AXIS  KURTOSIS_MAJOR_AXIS  HOLLOWS_RATIO CLASS_LABEL  \n",
              "0                     16                  187            197         van  \n",
              "1                     14                  189            199         van  \n",
              "2                      9                  188            196        saab  \n",
              "3                     10                  199            207         van  \n",
              "4                     11                  180            183         bus  \n",
              "..                   ...                  ...            ...         ...  \n",
              "841                   25                  188            195        saab  \n",
              "842                   20                  186            197         van  \n",
              "843                    4                  187            201        saab  \n",
              "844                   25                  190            195        saab  \n",
              "845                   18                  186            190         van  \n",
              "\n",
              "[846 rows x 19 columns]"
            ],
            "text/html": [
              "\n",
              "  <div id=\"df-9be2c6c4-63bc-4a15-9435-23d2ee7a3dba\" class=\"colab-df-container\">\n",
              "    <div>\n",
              "<style scoped>\n",
              "    .dataframe tbody tr th:only-of-type {\n",
              "        vertical-align: middle;\n",
              "    }\n",
              "\n",
              "    .dataframe tbody tr th {\n",
              "        vertical-align: top;\n",
              "    }\n",
              "\n",
              "    .dataframe thead th {\n",
              "        text-align: right;\n",
              "    }\n",
              "</style>\n",
              "<table border=\"1\" class=\"dataframe\">\n",
              "  <thead>\n",
              "    <tr style=\"text-align: right;\">\n",
              "      <th></th>\n",
              "      <th>COMPACTNESS</th>\n",
              "      <th>CIRCULARITY</th>\n",
              "      <th>DISTANCE_CIRCULARITY</th>\n",
              "      <th>RADIUS_RATIO</th>\n",
              "      <th>PR.AXIS_ASPECT_RATIO</th>\n",
              "      <th>MAX.LENGTH_ASPECT_RATIO</th>\n",
              "      <th>SCATTER_RATIO</th>\n",
              "      <th>ELONGATEDNESS</th>\n",
              "      <th>PR.AXIS_RECTANGULARITY</th>\n",
              "      <th>MAX.LENGTH_RECTANGULARITY</th>\n",
              "      <th>SCALED_VARIANCE_MAJOR_AXIS</th>\n",
              "      <th>SCALED_VARIANCE_MINOR_AXIS</th>\n",
              "      <th>SCALED_RADIUS_OF_GYRATION</th>\n",
              "      <th>SKEWNESS_MAJOR_AXIS</th>\n",
              "      <th>SKEWNESS_MINOR_AXIS</th>\n",
              "      <th>KURTOSIS_MINOR_AXIS</th>\n",
              "      <th>KURTOSIS_MAJOR_AXIS</th>\n",
              "      <th>HOLLOWS_RATIO</th>\n",
              "      <th>CLASS_LABEL</th>\n",
              "    </tr>\n",
              "  </thead>\n",
              "  <tbody>\n",
              "    <tr>\n",
              "      <th>0</th>\n",
              "      <td>95</td>\n",
              "      <td>48</td>\n",
              "      <td>83</td>\n",
              "      <td>178</td>\n",
              "      <td>72</td>\n",
              "      <td>10</td>\n",
              "      <td>162</td>\n",
              "      <td>42</td>\n",
              "      <td>20</td>\n",
              "      <td>159</td>\n",
              "      <td>176</td>\n",
              "      <td>379</td>\n",
              "      <td>184</td>\n",
              "      <td>70</td>\n",
              "      <td>6</td>\n",
              "      <td>16</td>\n",
              "      <td>187</td>\n",
              "      <td>197</td>\n",
              "      <td>van</td>\n",
              "    </tr>\n",
              "    <tr>\n",
              "      <th>1</th>\n",
              "      <td>91</td>\n",
              "      <td>41</td>\n",
              "      <td>84</td>\n",
              "      <td>141</td>\n",
              "      <td>57</td>\n",
              "      <td>9</td>\n",
              "      <td>149</td>\n",
              "      <td>45</td>\n",
              "      <td>19</td>\n",
              "      <td>143</td>\n",
              "      <td>170</td>\n",
              "      <td>330</td>\n",
              "      <td>158</td>\n",
              "      <td>72</td>\n",
              "      <td>9</td>\n",
              "      <td>14</td>\n",
              "      <td>189</td>\n",
              "      <td>199</td>\n",
              "      <td>van</td>\n",
              "    </tr>\n",
              "    <tr>\n",
              "      <th>2</th>\n",
              "      <td>104</td>\n",
              "      <td>50</td>\n",
              "      <td>106</td>\n",
              "      <td>209</td>\n",
              "      <td>66</td>\n",
              "      <td>10</td>\n",
              "      <td>207</td>\n",
              "      <td>32</td>\n",
              "      <td>23</td>\n",
              "      <td>158</td>\n",
              "      <td>223</td>\n",
              "      <td>635</td>\n",
              "      <td>220</td>\n",
              "      <td>73</td>\n",
              "      <td>14</td>\n",
              "      <td>9</td>\n",
              "      <td>188</td>\n",
              "      <td>196</td>\n",
              "      <td>saab</td>\n",
              "    </tr>\n",
              "    <tr>\n",
              "      <th>3</th>\n",
              "      <td>93</td>\n",
              "      <td>41</td>\n",
              "      <td>82</td>\n",
              "      <td>159</td>\n",
              "      <td>63</td>\n",
              "      <td>9</td>\n",
              "      <td>144</td>\n",
              "      <td>46</td>\n",
              "      <td>19</td>\n",
              "      <td>143</td>\n",
              "      <td>160</td>\n",
              "      <td>309</td>\n",
              "      <td>127</td>\n",
              "      <td>63</td>\n",
              "      <td>6</td>\n",
              "      <td>10</td>\n",
              "      <td>199</td>\n",
              "      <td>207</td>\n",
              "      <td>van</td>\n",
              "    </tr>\n",
              "    <tr>\n",
              "      <th>4</th>\n",
              "      <td>85</td>\n",
              "      <td>44</td>\n",
              "      <td>70</td>\n",
              "      <td>205</td>\n",
              "      <td>103</td>\n",
              "      <td>52</td>\n",
              "      <td>149</td>\n",
              "      <td>45</td>\n",
              "      <td>19</td>\n",
              "      <td>144</td>\n",
              "      <td>241</td>\n",
              "      <td>325</td>\n",
              "      <td>188</td>\n",
              "      <td>127</td>\n",
              "      <td>9</td>\n",
              "      <td>11</td>\n",
              "      <td>180</td>\n",
              "      <td>183</td>\n",
              "      <td>bus</td>\n",
              "    </tr>\n",
              "    <tr>\n",
              "      <th>...</th>\n",
              "      <td>...</td>\n",
              "      <td>...</td>\n",
              "      <td>...</td>\n",
              "      <td>...</td>\n",
              "      <td>...</td>\n",
              "      <td>...</td>\n",
              "      <td>...</td>\n",
              "      <td>...</td>\n",
              "      <td>...</td>\n",
              "      <td>...</td>\n",
              "      <td>...</td>\n",
              "      <td>...</td>\n",
              "      <td>...</td>\n",
              "      <td>...</td>\n",
              "      <td>...</td>\n",
              "      <td>...</td>\n",
              "      <td>...</td>\n",
              "      <td>...</td>\n",
              "      <td>...</td>\n",
              "    </tr>\n",
              "    <tr>\n",
              "      <th>841</th>\n",
              "      <td>93</td>\n",
              "      <td>39</td>\n",
              "      <td>87</td>\n",
              "      <td>183</td>\n",
              "      <td>64</td>\n",
              "      <td>8</td>\n",
              "      <td>169</td>\n",
              "      <td>40</td>\n",
              "      <td>20</td>\n",
              "      <td>134</td>\n",
              "      <td>200</td>\n",
              "      <td>422</td>\n",
              "      <td>149</td>\n",
              "      <td>72</td>\n",
              "      <td>7</td>\n",
              "      <td>25</td>\n",
              "      <td>188</td>\n",
              "      <td>195</td>\n",
              "      <td>saab</td>\n",
              "    </tr>\n",
              "    <tr>\n",
              "      <th>842</th>\n",
              "      <td>89</td>\n",
              "      <td>46</td>\n",
              "      <td>84</td>\n",
              "      <td>163</td>\n",
              "      <td>66</td>\n",
              "      <td>11</td>\n",
              "      <td>159</td>\n",
              "      <td>43</td>\n",
              "      <td>20</td>\n",
              "      <td>159</td>\n",
              "      <td>173</td>\n",
              "      <td>368</td>\n",
              "      <td>176</td>\n",
              "      <td>72</td>\n",
              "      <td>1</td>\n",
              "      <td>20</td>\n",
              "      <td>186</td>\n",
              "      <td>197</td>\n",
              "      <td>van</td>\n",
              "    </tr>\n",
              "    <tr>\n",
              "      <th>843</th>\n",
              "      <td>106</td>\n",
              "      <td>54</td>\n",
              "      <td>101</td>\n",
              "      <td>222</td>\n",
              "      <td>67</td>\n",
              "      <td>12</td>\n",
              "      <td>222</td>\n",
              "      <td>30</td>\n",
              "      <td>25</td>\n",
              "      <td>173</td>\n",
              "      <td>228</td>\n",
              "      <td>721</td>\n",
              "      <td>200</td>\n",
              "      <td>70</td>\n",
              "      <td>3</td>\n",
              "      <td>4</td>\n",
              "      <td>187</td>\n",
              "      <td>201</td>\n",
              "      <td>saab</td>\n",
              "    </tr>\n",
              "    <tr>\n",
              "      <th>844</th>\n",
              "      <td>86</td>\n",
              "      <td>36</td>\n",
              "      <td>78</td>\n",
              "      <td>146</td>\n",
              "      <td>58</td>\n",
              "      <td>7</td>\n",
              "      <td>135</td>\n",
              "      <td>50</td>\n",
              "      <td>18</td>\n",
              "      <td>124</td>\n",
              "      <td>155</td>\n",
              "      <td>270</td>\n",
              "      <td>148</td>\n",
              "      <td>66</td>\n",
              "      <td>0</td>\n",
              "      <td>25</td>\n",
              "      <td>190</td>\n",
              "      <td>195</td>\n",
              "      <td>saab</td>\n",
              "    </tr>\n",
              "    <tr>\n",
              "      <th>845</th>\n",
              "      <td>85</td>\n",
              "      <td>36</td>\n",
              "      <td>66</td>\n",
              "      <td>123</td>\n",
              "      <td>55</td>\n",
              "      <td>5</td>\n",
              "      <td>120</td>\n",
              "      <td>56</td>\n",
              "      <td>17</td>\n",
              "      <td>128</td>\n",
              "      <td>140</td>\n",
              "      <td>212</td>\n",
              "      <td>131</td>\n",
              "      <td>73</td>\n",
              "      <td>1</td>\n",
              "      <td>18</td>\n",
              "      <td>186</td>\n",
              "      <td>190</td>\n",
              "      <td>van</td>\n",
              "    </tr>\n",
              "  </tbody>\n",
              "</table>\n",
              "<p>846 rows × 19 columns</p>\n",
              "</div>\n",
              "    <div class=\"colab-df-buttons\">\n",
              "\n",
              "  <div class=\"colab-df-container\">\n",
              "    <button class=\"colab-df-convert\" onclick=\"convertToInteractive('df-9be2c6c4-63bc-4a15-9435-23d2ee7a3dba')\"\n",
              "            title=\"Convert this dataframe to an interactive table.\"\n",
              "            style=\"display:none;\">\n",
              "\n",
              "  <svg xmlns=\"http://www.w3.org/2000/svg\" height=\"24px\" viewBox=\"0 -960 960 960\">\n",
              "    <path d=\"M120-120v-720h720v720H120Zm60-500h600v-160H180v160Zm220 220h160v-160H400v160Zm0 220h160v-160H400v160ZM180-400h160v-160H180v160Zm440 0h160v-160H620v160ZM180-180h160v-160H180v160Zm440 0h160v-160H620v160Z\"/>\n",
              "  </svg>\n",
              "    </button>\n",
              "\n",
              "  <style>\n",
              "    .colab-df-container {\n",
              "      display:flex;\n",
              "      gap: 12px;\n",
              "    }\n",
              "\n",
              "    .colab-df-convert {\n",
              "      background-color: #E8F0FE;\n",
              "      border: none;\n",
              "      border-radius: 50%;\n",
              "      cursor: pointer;\n",
              "      display: none;\n",
              "      fill: #1967D2;\n",
              "      height: 32px;\n",
              "      padding: 0 0 0 0;\n",
              "      width: 32px;\n",
              "    }\n",
              "\n",
              "    .colab-df-convert:hover {\n",
              "      background-color: #E2EBFA;\n",
              "      box-shadow: 0px 1px 2px rgba(60, 64, 67, 0.3), 0px 1px 3px 1px rgba(60, 64, 67, 0.15);\n",
              "      fill: #174EA6;\n",
              "    }\n",
              "\n",
              "    .colab-df-buttons div {\n",
              "      margin-bottom: 4px;\n",
              "    }\n",
              "\n",
              "    [theme=dark] .colab-df-convert {\n",
              "      background-color: #3B4455;\n",
              "      fill: #D2E3FC;\n",
              "    }\n",
              "\n",
              "    [theme=dark] .colab-df-convert:hover {\n",
              "      background-color: #434B5C;\n",
              "      box-shadow: 0px 1px 3px 1px rgba(0, 0, 0, 0.15);\n",
              "      filter: drop-shadow(0px 1px 2px rgba(0, 0, 0, 0.3));\n",
              "      fill: #FFFFFF;\n",
              "    }\n",
              "  </style>\n",
              "\n",
              "    <script>\n",
              "      const buttonEl =\n",
              "        document.querySelector('#df-9be2c6c4-63bc-4a15-9435-23d2ee7a3dba button.colab-df-convert');\n",
              "      buttonEl.style.display =\n",
              "        google.colab.kernel.accessAllowed ? 'block' : 'none';\n",
              "\n",
              "      async function convertToInteractive(key) {\n",
              "        const element = document.querySelector('#df-9be2c6c4-63bc-4a15-9435-23d2ee7a3dba');\n",
              "        const dataTable =\n",
              "          await google.colab.kernel.invokeFunction('convertToInteractive',\n",
              "                                                    [key], {});\n",
              "        if (!dataTable) return;\n",
              "\n",
              "        const docLinkHtml = 'Like what you see? Visit the ' +\n",
              "          '<a target=\"_blank\" href=https://colab.research.google.com/notebooks/data_table.ipynb>data table notebook</a>'\n",
              "          + ' to learn more about interactive tables.';\n",
              "        element.innerHTML = '';\n",
              "        dataTable['output_type'] = 'display_data';\n",
              "        await google.colab.output.renderOutput(dataTable, element);\n",
              "        const docLink = document.createElement('div');\n",
              "        docLink.innerHTML = docLinkHtml;\n",
              "        element.appendChild(docLink);\n",
              "      }\n",
              "    </script>\n",
              "  </div>\n",
              "\n",
              "\n",
              "<div id=\"df-eea81e8d-b689-4920-b2bf-0af4161c41f0\">\n",
              "  <button class=\"colab-df-quickchart\" onclick=\"quickchart('df-eea81e8d-b689-4920-b2bf-0af4161c41f0')\"\n",
              "            title=\"Suggest charts\"\n",
              "            style=\"display:none;\">\n",
              "\n",
              "<svg xmlns=\"http://www.w3.org/2000/svg\" height=\"24px\"viewBox=\"0 0 24 24\"\n",
              "     width=\"24px\">\n",
              "    <g>\n",
              "        <path d=\"M19 3H5c-1.1 0-2 .9-2 2v14c0 1.1.9 2 2 2h14c1.1 0 2-.9 2-2V5c0-1.1-.9-2-2-2zM9 17H7v-7h2v7zm4 0h-2V7h2v10zm4 0h-2v-4h2v4z\"/>\n",
              "    </g>\n",
              "</svg>\n",
              "  </button>\n",
              "\n",
              "<style>\n",
              "  .colab-df-quickchart {\n",
              "      --bg-color: #E8F0FE;\n",
              "      --fill-color: #1967D2;\n",
              "      --hover-bg-color: #E2EBFA;\n",
              "      --hover-fill-color: #174EA6;\n",
              "      --disabled-fill-color: #AAA;\n",
              "      --disabled-bg-color: #DDD;\n",
              "  }\n",
              "\n",
              "  [theme=dark] .colab-df-quickchart {\n",
              "      --bg-color: #3B4455;\n",
              "      --fill-color: #D2E3FC;\n",
              "      --hover-bg-color: #434B5C;\n",
              "      --hover-fill-color: #FFFFFF;\n",
              "      --disabled-bg-color: #3B4455;\n",
              "      --disabled-fill-color: #666;\n",
              "  }\n",
              "\n",
              "  .colab-df-quickchart {\n",
              "    background-color: var(--bg-color);\n",
              "    border: none;\n",
              "    border-radius: 50%;\n",
              "    cursor: pointer;\n",
              "    display: none;\n",
              "    fill: var(--fill-color);\n",
              "    height: 32px;\n",
              "    padding: 0;\n",
              "    width: 32px;\n",
              "  }\n",
              "\n",
              "  .colab-df-quickchart:hover {\n",
              "    background-color: var(--hover-bg-color);\n",
              "    box-shadow: 0 1px 2px rgba(60, 64, 67, 0.3), 0 1px 3px 1px rgba(60, 64, 67, 0.15);\n",
              "    fill: var(--button-hover-fill-color);\n",
              "  }\n",
              "\n",
              "  .colab-df-quickchart-complete:disabled,\n",
              "  .colab-df-quickchart-complete:disabled:hover {\n",
              "    background-color: var(--disabled-bg-color);\n",
              "    fill: var(--disabled-fill-color);\n",
              "    box-shadow: none;\n",
              "  }\n",
              "\n",
              "  .colab-df-spinner {\n",
              "    border: 2px solid var(--fill-color);\n",
              "    border-color: transparent;\n",
              "    border-bottom-color: var(--fill-color);\n",
              "    animation:\n",
              "      spin 1s steps(1) infinite;\n",
              "  }\n",
              "\n",
              "  @keyframes spin {\n",
              "    0% {\n",
              "      border-color: transparent;\n",
              "      border-bottom-color: var(--fill-color);\n",
              "      border-left-color: var(--fill-color);\n",
              "    }\n",
              "    20% {\n",
              "      border-color: transparent;\n",
              "      border-left-color: var(--fill-color);\n",
              "      border-top-color: var(--fill-color);\n",
              "    }\n",
              "    30% {\n",
              "      border-color: transparent;\n",
              "      border-left-color: var(--fill-color);\n",
              "      border-top-color: var(--fill-color);\n",
              "      border-right-color: var(--fill-color);\n",
              "    }\n",
              "    40% {\n",
              "      border-color: transparent;\n",
              "      border-right-color: var(--fill-color);\n",
              "      border-top-color: var(--fill-color);\n",
              "    }\n",
              "    60% {\n",
              "      border-color: transparent;\n",
              "      border-right-color: var(--fill-color);\n",
              "    }\n",
              "    80% {\n",
              "      border-color: transparent;\n",
              "      border-right-color: var(--fill-color);\n",
              "      border-bottom-color: var(--fill-color);\n",
              "    }\n",
              "    90% {\n",
              "      border-color: transparent;\n",
              "      border-bottom-color: var(--fill-color);\n",
              "    }\n",
              "  }\n",
              "</style>\n",
              "\n",
              "  <script>\n",
              "    async function quickchart(key) {\n",
              "      const quickchartButtonEl =\n",
              "        document.querySelector('#' + key + ' button');\n",
              "      quickchartButtonEl.disabled = true;  // To prevent multiple clicks.\n",
              "      quickchartButtonEl.classList.add('colab-df-spinner');\n",
              "      try {\n",
              "        const charts = await google.colab.kernel.invokeFunction(\n",
              "            'suggestCharts', [key], {});\n",
              "      } catch (error) {\n",
              "        console.error('Error during call to suggestCharts:', error);\n",
              "      }\n",
              "      quickchartButtonEl.classList.remove('colab-df-spinner');\n",
              "      quickchartButtonEl.classList.add('colab-df-quickchart-complete');\n",
              "    }\n",
              "    (() => {\n",
              "      let quickchartButtonEl =\n",
              "        document.querySelector('#df-eea81e8d-b689-4920-b2bf-0af4161c41f0 button');\n",
              "      quickchartButtonEl.style.display =\n",
              "        google.colab.kernel.accessAllowed ? 'block' : 'none';\n",
              "    })();\n",
              "  </script>\n",
              "</div>\n",
              "\n",
              "  <div id=\"id_14041d56-8984-4106-9bbd-35fb3d1234c0\">\n",
              "    <style>\n",
              "      .colab-df-generate {\n",
              "        background-color: #E8F0FE;\n",
              "        border: none;\n",
              "        border-radius: 50%;\n",
              "        cursor: pointer;\n",
              "        display: none;\n",
              "        fill: #1967D2;\n",
              "        height: 32px;\n",
              "        padding: 0 0 0 0;\n",
              "        width: 32px;\n",
              "      }\n",
              "\n",
              "      .colab-df-generate:hover {\n",
              "        background-color: #E2EBFA;\n",
              "        box-shadow: 0px 1px 2px rgba(60, 64, 67, 0.3), 0px 1px 3px 1px rgba(60, 64, 67, 0.15);\n",
              "        fill: #174EA6;\n",
              "      }\n",
              "\n",
              "      [theme=dark] .colab-df-generate {\n",
              "        background-color: #3B4455;\n",
              "        fill: #D2E3FC;\n",
              "      }\n",
              "\n",
              "      [theme=dark] .colab-df-generate:hover {\n",
              "        background-color: #434B5C;\n",
              "        box-shadow: 0px 1px 3px 1px rgba(0, 0, 0, 0.15);\n",
              "        filter: drop-shadow(0px 1px 2px rgba(0, 0, 0, 0.3));\n",
              "        fill: #FFFFFF;\n",
              "      }\n",
              "    </style>\n",
              "    <button class=\"colab-df-generate\" onclick=\"generateWithVariable('df')\"\n",
              "            title=\"Generate code using this dataframe.\"\n",
              "            style=\"display:none;\">\n",
              "\n",
              "  <svg xmlns=\"http://www.w3.org/2000/svg\" height=\"24px\"viewBox=\"0 0 24 24\"\n",
              "       width=\"24px\">\n",
              "    <path d=\"M7,19H8.4L18.45,9,17,7.55,7,17.6ZM5,21V16.75L18.45,3.32a2,2,0,0,1,2.83,0l1.4,1.43a1.91,1.91,0,0,1,.58,1.4,1.91,1.91,0,0,1-.58,1.4L9.25,21ZM18.45,9,17,7.55Zm-12,3A5.31,5.31,0,0,0,4.9,8.1,5.31,5.31,0,0,0,1,6.5,5.31,5.31,0,0,0,4.9,4.9,5.31,5.31,0,0,0,6.5,1,5.31,5.31,0,0,0,8.1,4.9,5.31,5.31,0,0,0,12,6.5,5.46,5.46,0,0,0,6.5,12Z\"/>\n",
              "  </svg>\n",
              "    </button>\n",
              "    <script>\n",
              "      (() => {\n",
              "      const buttonEl =\n",
              "        document.querySelector('#id_14041d56-8984-4106-9bbd-35fb3d1234c0 button.colab-df-generate');\n",
              "      buttonEl.style.display =\n",
              "        google.colab.kernel.accessAllowed ? 'block' : 'none';\n",
              "\n",
              "      buttonEl.onclick = () => {\n",
              "        google.colab.notebook.generateWithVariable('df');\n",
              "      }\n",
              "      })();\n",
              "    </script>\n",
              "  </div>\n",
              "\n",
              "    </div>\n",
              "  </div>\n"
            ],
            "application/vnd.google.colaboratory.intrinsic+json": {
              "type": "dataframe",
              "variable_name": "df",
              "summary": "{\n  \"name\": \"df\",\n  \"rows\": 846,\n  \"fields\": [\n    {\n      \"column\": \"COMPACTNESS\",\n      \"properties\": {\n        \"dtype\": \"number\",\n        \"std\": 8,\n        \"min\": 73,\n        \"max\": 119,\n        \"num_unique_values\": 44,\n        \"samples\": [\n          112,\n          119,\n          78\n        ],\n        \"semantic_type\": \"\",\n        \"description\": \"\"\n      }\n    },\n    {\n      \"column\": \"CIRCULARITY\",\n      \"properties\": {\n        \"dtype\": \"number\",\n        \"std\": 6,\n        \"min\": 33,\n        \"max\": 59,\n        \"num_unique_values\": 27,\n        \"samples\": [\n          46,\n          56,\n          42\n        ],\n        \"semantic_type\": \"\",\n        \"description\": \"\"\n      }\n    },\n    {\n      \"column\": \"DISTANCE_CIRCULARITY\",\n      \"properties\": {\n        \"dtype\": \"number\",\n        \"std\": 15,\n        \"min\": 40,\n        \"max\": 112,\n        \"num_unique_values\": 63,\n        \"samples\": [\n          52,\n          61,\n          83\n        ],\n        \"semantic_type\": \"\",\n        \"description\": \"\"\n      }\n    },\n    {\n      \"column\": \"RADIUS_RATIO\",\n      \"properties\": {\n        \"dtype\": \"number\",\n        \"std\": 33,\n        \"min\": 104,\n        \"max\": 333,\n        \"num_unique_values\": 134,\n        \"samples\": [\n          104,\n          180,\n          134\n        ],\n        \"semantic_type\": \"\",\n        \"description\": \"\"\n      }\n    },\n    {\n      \"column\": \"PR.AXIS_ASPECT_RATIO\",\n      \"properties\": {\n        \"dtype\": \"number\",\n        \"std\": 7,\n        \"min\": 47,\n        \"max\": 138,\n        \"num_unique_values\": 37,\n        \"samples\": [\n          67,\n          52,\n          103\n        ],\n        \"semantic_type\": \"\",\n        \"description\": \"\"\n      }\n    },\n    {\n      \"column\": \"MAX.LENGTH_ASPECT_RATIO\",\n      \"properties\": {\n        \"dtype\": \"number\",\n        \"std\": 4,\n        \"min\": 2,\n        \"max\": 55,\n        \"num_unique_values\": 21,\n        \"samples\": [\n          10,\n          46,\n          43\n        ],\n        \"semantic_type\": \"\",\n        \"description\": \"\"\n      }\n    },\n    {\n      \"column\": \"SCATTER_RATIO\",\n      \"properties\": {\n        \"dtype\": \"number\",\n        \"std\": 33,\n        \"min\": 112,\n        \"max\": 265,\n        \"num_unique_values\": 131,\n        \"samples\": [\n          127,\n          163,\n          150\n        ],\n        \"semantic_type\": \"\",\n        \"description\": \"\"\n      }\n    },\n    {\n      \"column\": \"ELONGATEDNESS\",\n      \"properties\": {\n        \"dtype\": \"number\",\n        \"std\": 7,\n        \"min\": 26,\n        \"max\": 61,\n        \"num_unique_values\": 35,\n        \"samples\": [\n          39,\n          31,\n          38\n        ],\n        \"semantic_type\": \"\",\n        \"description\": \"\"\n      }\n    },\n    {\n      \"column\": \"PR.AXIS_RECTANGULARITY\",\n      \"properties\": {\n        \"dtype\": \"number\",\n        \"std\": 2,\n        \"min\": 17,\n        \"max\": 29,\n        \"num_unique_values\": 13,\n        \"samples\": [\n          26,\n          25,\n          20\n        ],\n        \"semantic_type\": \"\",\n        \"description\": \"\"\n      }\n    },\n    {\n      \"column\": \"MAX.LENGTH_RECTANGULARITY\",\n      \"properties\": {\n        \"dtype\": \"number\",\n        \"std\": 14,\n        \"min\": 118,\n        \"max\": 188,\n        \"num_unique_values\": 66,\n        \"samples\": [\n          149,\n          182,\n          159\n        ],\n        \"semantic_type\": \"\",\n        \"description\": \"\"\n      }\n    },\n    {\n      \"column\": \"SCALED_VARIANCE_MAJOR_AXIS\",\n      \"properties\": {\n        \"dtype\": \"number\",\n        \"std\": 31,\n        \"min\": 130,\n        \"max\": 320,\n        \"num_unique_values\": 128,\n        \"samples\": [\n          218,\n          154,\n          164\n        ],\n        \"semantic_type\": \"\",\n        \"description\": \"\"\n      }\n    },\n    {\n      \"column\": \"SCALED_VARIANCE_MINOR_AXIS\",\n      \"properties\": {\n        \"dtype\": \"number\",\n        \"std\": 176,\n        \"min\": 184,\n        \"max\": 1018,\n        \"num_unique_values\": 424,\n        \"samples\": [\n          674,\n          517,\n          274\n        ],\n        \"semantic_type\": \"\",\n        \"description\": \"\"\n      }\n    },\n    {\n      \"column\": \"SCALED_RADIUS_OF_GYRATION\",\n      \"properties\": {\n        \"dtype\": \"number\",\n        \"std\": 32,\n        \"min\": 109,\n        \"max\": 268,\n        \"num_unique_values\": 143,\n        \"samples\": [\n          261,\n          177,\n          115\n        ],\n        \"semantic_type\": \"\",\n        \"description\": \"\"\n      }\n    },\n    {\n      \"column\": \"SKEWNESS_MAJOR_AXIS\",\n      \"properties\": {\n        \"dtype\": \"number\",\n        \"std\": 7,\n        \"min\": 59,\n        \"max\": 135,\n        \"num_unique_values\": 39,\n        \"samples\": [\n          90,\n          91,\n          127\n        ],\n        \"semantic_type\": \"\",\n        \"description\": \"\"\n      }\n    },\n    {\n      \"column\": \"SKEWNESS_MINOR_AXIS\",\n      \"properties\": {\n        \"dtype\": \"number\",\n        \"std\": 4,\n        \"min\": 0,\n        \"max\": 22,\n        \"num_unique_values\": 23,\n        \"samples\": [\n          18,\n          0,\n          6\n        ],\n        \"semantic_type\": \"\",\n        \"description\": \"\"\n      }\n    },\n    {\n      \"column\": \"KURTOSIS_MINOR_AXIS\",\n      \"properties\": {\n        \"dtype\": \"number\",\n        \"std\": 8,\n        \"min\": 0,\n        \"max\": 41,\n        \"num_unique_values\": 41,\n        \"samples\": [\n          23,\n          28,\n          13\n        ],\n        \"semantic_type\": \"\",\n        \"description\": \"\"\n      }\n    },\n    {\n      \"column\": \"KURTOSIS_MAJOR_AXIS\",\n      \"properties\": {\n        \"dtype\": \"number\",\n        \"std\": 6,\n        \"min\": 176,\n        \"max\": 206,\n        \"num_unique_values\": 30,\n        \"samples\": [\n          177,\n          179,\n          182\n        ],\n        \"semantic_type\": \"\",\n        \"description\": \"\"\n      }\n    },\n    {\n      \"column\": \"HOLLOWS_RATIO\",\n      \"properties\": {\n        \"dtype\": \"number\",\n        \"std\": 7,\n        \"min\": 181,\n        \"max\": 211,\n        \"num_unique_values\": 31,\n        \"samples\": [\n          186,\n          205,\n          198\n        ],\n        \"semantic_type\": \"\",\n        \"description\": \"\"\n      }\n    },\n    {\n      \"column\": \"CLASS_LABEL\",\n      \"properties\": {\n        \"dtype\": \"category\",\n        \"num_unique_values\": 4,\n        \"samples\": [\n          \"saab\",\n          \"opel\",\n          \"van\"\n        ],\n        \"semantic_type\": \"\",\n        \"description\": \"\"\n      }\n    }\n  ]\n}"
            }
          },
          "metadata": {},
          "execution_count": 7
        }
      ]
    },
    {
      "cell_type": "markdown",
      "source": [
        "# 2.Exploratory data analysis"
      ],
      "metadata": {
        "id": "JnqfiYJPWPLs"
      }
    },
    {
      "cell_type": "markdown",
      "source": [
        "**2.1 Checking for any issue in the data types or any missing values**"
      ],
      "metadata": {
        "id": "dKISQseaeMaP"
      }
    },
    {
      "cell_type": "code",
      "source": [
        "df.info()"
      ],
      "metadata": {
        "id": "gZYpabhea-Y6"
      },
      "execution_count": null,
      "outputs": []
    },
    {
      "cell_type": "markdown",
      "source": [
        "**2.2 Checking the variation in the target column**"
      ],
      "metadata": {
        "id": "b4-73USmc5F-"
      }
    },
    {
      "cell_type": "code",
      "source": [
        "plt.figure(figsize=(8, 6))\n",
        "sns.countplot(x=df['CLASS_LABEL'])\n",
        "plt.title('Distribution of Class Labels')\n",
        "plt.ylabel('Count')\n",
        "plt.show()"
      ],
      "metadata": {
        "id": "DupCfKUDccYs"
      },
      "execution_count": null,
      "outputs": []
    },
    {
      "cell_type": "markdown",
      "source": [
        "**2.3 Statistical summary**"
      ],
      "metadata": {
        "id": "CB5pnIaFel8U"
      }
    },
    {
      "cell_type": "code",
      "source": [
        "desc = df.describe().T\n",
        "desc['skew'] = df.iloc[:,:-1].skew()\n",
        "desc['kurtosis'] = df.iloc[:,:-1].kurtosis()\n",
        "desc"
      ],
      "metadata": {
        "id": "SFTAMJySbVNi"
      },
      "execution_count": null,
      "outputs": []
    },
    {
      "cell_type": "markdown",
      "source": [
        "**2.4 Display the distribution of the skewed features**"
      ],
      "metadata": {
        "id": "wvoTb1wXfC3p"
      }
    },
    {
      "cell_type": "code",
      "source": [
        "df.hist(bins=25, figsize=(12,8))\n",
        "plt.tight_layout()\n",
        "plt.show()"
      ],
      "metadata": {
        "id": "oz5CkioNVubR"
      },
      "execution_count": null,
      "outputs": []
    },
    {
      "cell_type": "markdown",
      "source": [
        "**2.5 Is there's outliers ?**"
      ],
      "metadata": {
        "id": "vug2jqgOgGAN"
      }
    },
    {
      "cell_type": "code",
      "source": [
        "plt.figure(figsize=(12, 10))\n",
        "for i, col in enumerate(df.columns[:-1]):\n",
        "    plt.subplot(5, 4, i + 1)\n",
        "    sns.boxplot(y=df[col])\n",
        "    plt.title(col)\n",
        "plt.tight_layout()\n",
        "plt.show()\n"
      ],
      "metadata": {
        "id": "9EqeHcfuf6Z_"
      },
      "execution_count": null,
      "outputs": []
    },
    {
      "cell_type": "markdown",
      "source": [
        "**2.6 Identify highly collinear features**"
      ],
      "metadata": {
        "id": "B7q_fP44gdox"
      }
    },
    {
      "cell_type": "code",
      "source": [
        "num_cols = df.select_dtypes(include=[np.number]).columns.tolist()\n",
        "correlation_matrix = df[num_cols].corr()\n",
        "\n",
        "plt.figure(figsize=(12, 10))\n",
        "sns.heatmap(correlation_matrix, mask=np.triu(correlation_matrix), annot=True)\n",
        "plt.show()"
      ],
      "metadata": {
        "id": "tCM-xxuqgTuu"
      },
      "execution_count": null,
      "outputs": []
    },
    {
      "cell_type": "markdown",
      "source": [
        "# 3. Actions\n"
      ],
      "metadata": {
        "id": "7noC_DWbhy0b"
      }
    },
    {
      "cell_type": "markdown",
      "source": [
        "We will:\n",
        "1.   Remove **highly collinear** features (2.6)\n",
        "2.   Transform the **Skewed** features (2.3)\n",
        "\n"
      ],
      "metadata": {
        "id": "mUnog1qRolc0"
      }
    },
    {
      "cell_type": "markdown",
      "source": [
        "3.1 Start with 2.6"
      ],
      "metadata": {
        "id": "kDDRrFGziamn"
      }
    },
    {
      "cell_type": "code",
      "source": [
        "df.drop(['ELONGATEDNESS','PR.AXIS_RECTANGULARITY','MAX.LENGTH_RECTANGULARITY'],axis=1,inplace=True)"
      ],
      "metadata": {
        "id": "gQJVrPE2hyYn"
      },
      "execution_count": 8,
      "outputs": []
    },
    {
      "cell_type": "markdown",
      "source": [
        "3.2 now with 2.3"
      ],
      "metadata": {
        "id": "PnzrRbrQi1As"
      }
    },
    {
      "cell_type": "code",
      "source": [
        "df[['PR.AXIS_ASPECT_RATIO','MAX.LENGTH_ASPECT_RATIO','PR.AXIS_ASPECT_RATIO']].skew()"
      ],
      "metadata": {
        "colab": {
          "base_uri": "https://localhost:8080/",
          "height": 0
        },
        "id": "A57-GYAmiosa",
        "outputId": "85653ab7-a031-41e2-df49-4548b3194092"
      },
      "execution_count": 9,
      "outputs": [
        {
          "output_type": "execute_result",
          "data": {
            "text/plain": [
              "PR.AXIS_ASPECT_RATIO       3.821560\n",
              "MAX.LENGTH_ASPECT_RATIO    6.778394\n",
              "PR.AXIS_ASPECT_RATIO       3.821560\n",
              "dtype: float64"
            ],
            "text/html": [
              "<div>\n",
              "<style scoped>\n",
              "    .dataframe tbody tr th:only-of-type {\n",
              "        vertical-align: middle;\n",
              "    }\n",
              "\n",
              "    .dataframe tbody tr th {\n",
              "        vertical-align: top;\n",
              "    }\n",
              "\n",
              "    .dataframe thead th {\n",
              "        text-align: right;\n",
              "    }\n",
              "</style>\n",
              "<table border=\"1\" class=\"dataframe\">\n",
              "  <thead>\n",
              "    <tr style=\"text-align: right;\">\n",
              "      <th></th>\n",
              "      <th>0</th>\n",
              "    </tr>\n",
              "  </thead>\n",
              "  <tbody>\n",
              "    <tr>\n",
              "      <th>PR.AXIS_ASPECT_RATIO</th>\n",
              "      <td>3.821560</td>\n",
              "    </tr>\n",
              "    <tr>\n",
              "      <th>MAX.LENGTH_ASPECT_RATIO</th>\n",
              "      <td>6.778394</td>\n",
              "    </tr>\n",
              "    <tr>\n",
              "      <th>PR.AXIS_ASPECT_RATIO</th>\n",
              "      <td>3.821560</td>\n",
              "    </tr>\n",
              "  </tbody>\n",
              "</table>\n",
              "</div><br><label><b>dtype:</b> float64</label>"
            ]
          },
          "metadata": {},
          "execution_count": 9
        }
      ]
    },
    {
      "cell_type": "code",
      "source": [
        "for col in ['PR.AXIS_ASPECT_RATIO', 'MAX.LENGTH_ASPECT_RATIO', 'PR.AXIS_ASPECT_RATIO']:\n",
        "  df[col] = np.log1p(df[col])\n",
        "\n",
        "df[['PR.AXIS_ASPECT_RATIO','MAX.LENGTH_ASPECT_RATIO','PR.AXIS_ASPECT_RATIO']].skew()"
      ],
      "metadata": {
        "colab": {
          "base_uri": "https://localhost:8080/",
          "height": 0
        },
        "id": "Yjh-4JFsi4pt",
        "outputId": "3c1b47b1-7ad9-4cbb-e0d9-a7610bf5b37c"
      },
      "execution_count": 10,
      "outputs": [
        {
          "output_type": "execute_result",
          "data": {
            "text/plain": [
              "PR.AXIS_ASPECT_RATIO       1.548952\n",
              "MAX.LENGTH_ASPECT_RATIO    1.570454\n",
              "PR.AXIS_ASPECT_RATIO       1.548952\n",
              "dtype: float64"
            ],
            "text/html": [
              "<div>\n",
              "<style scoped>\n",
              "    .dataframe tbody tr th:only-of-type {\n",
              "        vertical-align: middle;\n",
              "    }\n",
              "\n",
              "    .dataframe tbody tr th {\n",
              "        vertical-align: top;\n",
              "    }\n",
              "\n",
              "    .dataframe thead th {\n",
              "        text-align: right;\n",
              "    }\n",
              "</style>\n",
              "<table border=\"1\" class=\"dataframe\">\n",
              "  <thead>\n",
              "    <tr style=\"text-align: right;\">\n",
              "      <th></th>\n",
              "      <th>0</th>\n",
              "    </tr>\n",
              "  </thead>\n",
              "  <tbody>\n",
              "    <tr>\n",
              "      <th>PR.AXIS_ASPECT_RATIO</th>\n",
              "      <td>1.548952</td>\n",
              "    </tr>\n",
              "    <tr>\n",
              "      <th>MAX.LENGTH_ASPECT_RATIO</th>\n",
              "      <td>1.570454</td>\n",
              "    </tr>\n",
              "    <tr>\n",
              "      <th>PR.AXIS_ASPECT_RATIO</th>\n",
              "      <td>1.548952</td>\n",
              "    </tr>\n",
              "  </tbody>\n",
              "</table>\n",
              "</div><br><label><b>dtype:</b> float64</label>"
            ]
          },
          "metadata": {},
          "execution_count": 10
        }
      ]
    },
    {
      "cell_type": "markdown",
      "source": [
        "# 4. Prepare the data to build a model"
      ],
      "metadata": {
        "id": "4ywlMMdMj_7h"
      }
    },
    {
      "cell_type": "markdown",
      "source": [
        "4.1 Splitting the data into:\n",
        "*   Training set 70%\n",
        "*   Validation set 20%\n",
        "*   Testing set 10%\n",
        "\n",
        "with Scaling and encoding the features\n",
        "\n"
      ],
      "metadata": {
        "id": "Bl2F-ufMnSdt"
      }
    },
    {
      "cell_type": "code",
      "source": [
        "x = df.drop('CLASS_LABEL',axis=1)\n",
        "y = df['CLASS_LABEL']\n",
        "\n",
        "y = LabelEncoder().fit_transform(y)\n",
        "\n",
        "x_train, x_temp, y_train, y_temp = train_test_split(x, y, test_size=0.3, random_state=42)\n",
        "x_val, x_test, y_val, y_test = train_test_split(x_temp, y_temp, test_size=0.5, random_state=42)\n",
        "\n",
        "scaler = StandardScaler()\n",
        "x_train = scaler.fit_transform(x_train)\n",
        "x_val = scaler.transform(x_val)\n",
        "x_test = scaler.transform(x_test)"
      ],
      "metadata": {
        "id": "tgEhS8ceoFUq"
      },
      "execution_count": 170,
      "outputs": []
    },
    {
      "cell_type": "markdown",
      "source": [
        "**4.2 To tensor type**"
      ],
      "metadata": {
        "id": "PBmepuiSoPpD"
      }
    },
    {
      "cell_type": "code",
      "source": [
        "x_train = torch.tensor(x_train, dtype=torch.float32)\n",
        "y_train = torch.tensor(y_train, dtype=torch.long)\n",
        "x_val = torch.tensor(x_val, dtype=torch.float32)\n",
        "y_val = torch.tensor(y_val, dtype=torch.long)\n",
        "x_test = torch.tensor(x_test, dtype=torch.float32)\n",
        "y_test = torch.tensor(y_test, dtype=torch.long)"
      ],
      "metadata": {
        "id": "NlbzCapBn8Qp"
      },
      "execution_count": 171,
      "outputs": []
    },
    {
      "cell_type": "markdown",
      "source": [
        "**4.3 Here's the trick as we don't have enough data we will force it to be enough by ⚡*OverSampling*⚡**"
      ],
      "metadata": {
        "id": "Q9-QEq4l7sQa"
      }
    },
    {
      "cell_type": "code",
      "source": [
        "sampling_strategy = {class_label: count * 50 for class_label, count in zip(*np.unique(y_train.numpy(), return_counts=True))}\n",
        "oversampler = RandomOverSampler(sampling_strategy=sampling_strategy, random_state=42)\n",
        "\n",
        "x_train_resampled, y_train_resampled = oversampler.fit_resample(x_train.numpy(), y_train.numpy())\n",
        "\n",
        "x_train = torch.tensor(x_train_resampled, dtype=torch.float32)\n",
        "y_train = torch.tensor(y_train_resampled, dtype=torch.long)"
      ],
      "metadata": {
        "id": "sUfAot5A7r6Z"
      },
      "execution_count": 172,
      "outputs": []
    },
    {
      "cell_type": "code",
      "source": [
        "x_train.shape"
      ],
      "metadata": {
        "colab": {
          "base_uri": "https://localhost:8080/"
        },
        "id": "tIcthx8M_ov4",
        "outputId": "e31c9f39-f3e5-4622-92dc-12bd5346a58e"
      },
      "execution_count": 173,
      "outputs": [
        {
          "output_type": "execute_result",
          "data": {
            "text/plain": [
              "torch.Size([29600, 15])"
            ]
          },
          "metadata": {},
          "execution_count": 173
        }
      ]
    },
    {
      "cell_type": "markdown",
      "source": [
        "# 5. Deep Network with PyTorch"
      ],
      "metadata": {
        "id": "W1lZbqzOoY4K"
      }
    },
    {
      "cell_type": "markdown",
      "source": [
        "**5.1 Define the Neural Network**"
      ],
      "metadata": {
        "id": "C3cH55ajpa3D"
      }
    },
    {
      "cell_type": "code",
      "source": [
        "import torch\n",
        "import torch.nn as nn\n",
        "\n",
        "class SimpleNN(nn.Module):\n",
        "    def __init__(self, input_size, num_classes):\n",
        "        super().__init__()\n",
        "        self.fc1 = nn.Linear(input_size, 512)\n",
        "        self.bn1 = nn.BatchNorm1d(512)\n",
        "\n",
        "        self.fc2 = nn.Linear(512, 256)\n",
        "        self.bn2 = nn.BatchNorm1d(256)\n",
        "        self.shortcut2 = nn.Linear(512, 256)  # Projection shortcut\n",
        "\n",
        "        self.fc3 = nn.Linear(256, 128)\n",
        "        self.bn3 = nn.BatchNorm1d(128)\n",
        "        self.shortcut3 = nn.Linear(256, 128)\n",
        "\n",
        "        self.fc4 = nn.Linear(128, 64)\n",
        "        self.bn4 = nn.BatchNorm1d(64)\n",
        "        self.shortcut4 = nn.Linear(128, 64)\n",
        "\n",
        "        self.fc5 = nn.Linear(64, 32)\n",
        "        self.bn5 = nn.BatchNorm1d(32)\n",
        "        self.shortcut5 = nn.Linear(64, 32)\n",
        "\n",
        "        self.fc6 = nn.Linear(32, 16)\n",
        "        self.bn6 = nn.BatchNorm1d(16)\n",
        "        self.shortcut6 = nn.Linear(32, 16)\n",
        "\n",
        "        self.fc7 = nn.Linear(16, 8)\n",
        "        self.bn7 = nn.BatchNorm1d(8)\n",
        "        self.shortcut7 = nn.Linear(16, 8)\n",
        "\n",
        "        self.fc8 = nn.Linear(8, num_classes)\n",
        "\n",
        "        self.dropout = nn.Dropout(p=0.5)\n",
        "        self.relu = nn.ReLU()\n",
        "\n",
        "    def forward(self, x):\n",
        "        # Layer 1\n",
        "        x = self.fc1(x)\n",
        "        x = self.bn1(x)\n",
        "        x = self.relu(x)\n",
        "        x = self.dropout(x)\n",
        "\n",
        "        # Layer 2 with residual connection\n",
        "        identity = self.shortcut2(x)  # Project previous x to 256 dim\n",
        "        x = self.fc2(x)\n",
        "        x = self.bn2(x)\n",
        "        x += identity\n",
        "        x = self.relu(x)\n",
        "        x = self.dropout(x)\n",
        "\n",
        "        # Layer 3 with residual connection\n",
        "        identity = self.shortcut3(x)\n",
        "        x = self.fc3(x)\n",
        "        x = self.bn3(x)\n",
        "        x += identity\n",
        "        x = self.relu(x)\n",
        "        x = self.dropout(x)\n",
        "\n",
        "        # Layer 4 with residual connection\n",
        "        identity = self.shortcut4(x)\n",
        "        x = self.fc4(x)\n",
        "        x = self.bn4(x)\n",
        "        x += identity\n",
        "        x = self.relu(x)\n",
        "\n",
        "        # Layer 5 with residual connection\n",
        "        identity = self.shortcut5(x)\n",
        "        x = self.fc5(x)\n",
        "        x = self.bn5(x)\n",
        "        x += identity\n",
        "        x = self.relu(x)\n",
        "\n",
        "        # Layer 6 with residual connection\n",
        "        identity = self.shortcut6(x)\n",
        "        x = self.fc6(x)\n",
        "        x = self.bn6(x)\n",
        "        x += identity\n",
        "        x = self.relu(x)\n",
        "\n",
        "        # Layer 7 with residual connection\n",
        "        identity = self.shortcut7(x)\n",
        "        x = self.fc7(x)\n",
        "        x = self.bn7(x)\n",
        "        x += identity\n",
        "        x = self.relu(x)\n",
        "\n",
        "        # Output layer\n",
        "        x = self.fc8(x)\n",
        "        return x\n",
        "\n",
        "    def init_weights(self):\n",
        "        \"\"\"\n",
        "        Initialize the weights of all linear layers using Xavier uniform.\n",
        "        Biases are initialized to zero.\n",
        "        \"\"\"\n",
        "        for m in self.modules():\n",
        "            if isinstance(m, nn.Linear):\n",
        "                nn.init.xavier_uniform_(m.weight)\n",
        "                nn.init.zeros_(m.bias)\n",
        "\n",
        "\n",
        "model = SimpleNN(x_train.shape[1], len(np.unique(y_train)))\n",
        "model.init_weights()"
      ],
      "metadata": {
        "id": "z2fFvlpZpUDo"
      },
      "execution_count": 221,
      "outputs": []
    },
    {
      "cell_type": "markdown",
      "source": [
        "**5.2 Define Loss Function and Optimizer**"
      ],
      "metadata": {
        "id": "pTbbnEalplUt"
      }
    },
    {
      "cell_type": "code",
      "source": [
        "criterion = nn.CrossEntropyLoss()\n",
        "optimizer = optim.Adam(model.parameters(), lr=0.001)"
      ],
      "metadata": {
        "id": "jipX-qJopdrF"
      },
      "execution_count": 222,
      "outputs": []
    },
    {
      "cell_type": "markdown",
      "source": [
        "**5.3 New metric Accuracy !!**"
      ],
      "metadata": {
        "id": "oScTglEHrhmI"
      }
    },
    {
      "cell_type": "code",
      "source": [
        "metric = torchmetrics.Accuracy(task=\"multiclass\", num_classes=4)"
      ],
      "metadata": {
        "id": "f-w3VM8qrilv"
      },
      "execution_count": 223,
      "outputs": []
    },
    {
      "cell_type": "markdown",
      "source": [
        "**5.4 Train and evaluate the Model**"
      ],
      "metadata": {
        "id": "FqvyYVKfqZEj"
      }
    },
    {
      "cell_type": "code",
      "source": [
        "for epoch in range(200):\n",
        "    # Training Phase\n",
        "    model.train()\n",
        "    optimizer.zero_grad()\n",
        "    outputs = model(x_train)\n",
        "    loss = criterion(outputs, y_train)\n",
        "    loss.backward()\n",
        "    optimizer.step()\n",
        "\n",
        "    train_acc = metric(outputs, y_train)\n",
        "\n",
        "    # Validation Phase\n",
        "    model.eval()\n",
        "    with torch.no_grad():\n",
        "        val_outputs = model(x_val)\n",
        "        val_loss = criterion(val_outputs, y_val)\n",
        "        val_acc = metric(val_outputs, y_val)\n",
        "\n",
        "    if epoch % 5 == 0:\n",
        "        print(f\"Epoch [{epoch}], Loss: {loss.item():.4f}, Validation Loss: {val_loss.item():.4f},{'-'*5} Accuracy: {train_acc.item():.4f}, Validation Accuracy: {val_acc.item():.4f}\")"
      ],
      "metadata": {
        "colab": {
          "base_uri": "https://localhost:8080/"
        },
        "id": "LfIQ4EXOpojf",
        "outputId": "0f148968-80f6-484b-d97c-aabc2e710c96"
      },
      "execution_count": 224,
      "outputs": [
        {
          "output_type": "stream",
          "name": "stdout",
          "text": [
            "Epoch [0], Loss: 1.7613, Validation Loss: 1.3280,----- Accuracy: 0.2712, Validation Accuracy: 0.4882\n",
            "Epoch [5], Loss: 1.3028, Validation Loss: 1.2296,----- Accuracy: 0.3548, Validation Accuracy: 0.4173\n",
            "Epoch [10], Loss: 1.1721, Validation Loss: 1.1255,----- Accuracy: 0.4771, Validation Accuracy: 0.5984\n",
            "Epoch [15], Loss: 1.0172, Validation Loss: 0.9410,----- Accuracy: 0.5643, Validation Accuracy: 0.6693\n",
            "Epoch [20], Loss: 0.8727, Validation Loss: 0.7731,----- Accuracy: 0.6307, Validation Accuracy: 0.6850\n",
            "Epoch [25], Loss: 0.7463, Validation Loss: 0.6431,----- Accuracy: 0.6591, Validation Accuracy: 0.6929\n",
            "Epoch [30], Loss: 0.6405, Validation Loss: 0.5476,----- Accuracy: 0.6853, Validation Accuracy: 0.7480\n",
            "Epoch [35], Loss: 0.5599, Validation Loss: 0.4660,----- Accuracy: 0.7060, Validation Accuracy: 0.7323\n",
            "Epoch [40], Loss: 0.5076, Validation Loss: 0.4222,----- Accuracy: 0.7220, Validation Accuracy: 0.7402\n",
            "Epoch [45], Loss: 0.4754, Validation Loss: 0.4075,----- Accuracy: 0.7313, Validation Accuracy: 0.7874\n",
            "Epoch [50], Loss: 0.4516, Validation Loss: 0.3994,----- Accuracy: 0.7399, Validation Accuracy: 0.7795\n",
            "Epoch [55], Loss: 0.4265, Validation Loss: 0.3871,----- Accuracy: 0.7549, Validation Accuracy: 0.7795\n",
            "Epoch [60], Loss: 0.4094, Validation Loss: 0.3805,----- Accuracy: 0.7661, Validation Accuracy: 0.7953\n",
            "Epoch [65], Loss: 0.3988, Validation Loss: 0.3783,----- Accuracy: 0.7709, Validation Accuracy: 0.7874\n",
            "Epoch [70], Loss: 0.3884, Validation Loss: 0.3801,----- Accuracy: 0.7806, Validation Accuracy: 0.7874\n",
            "Epoch [75], Loss: 0.3743, Validation Loss: 0.3844,----- Accuracy: 0.7909, Validation Accuracy: 0.7953\n",
            "Epoch [80], Loss: 0.3609, Validation Loss: 0.3812,----- Accuracy: 0.8001, Validation Accuracy: 0.7874\n",
            "Epoch [85], Loss: 0.3500, Validation Loss: 0.3839,----- Accuracy: 0.8108, Validation Accuracy: 0.8110\n",
            "Epoch [90], Loss: 0.3362, Validation Loss: 0.3839,----- Accuracy: 0.8238, Validation Accuracy: 0.8189\n",
            "Epoch [95], Loss: 0.3250, Validation Loss: 0.3804,----- Accuracy: 0.8350, Validation Accuracy: 0.8268\n",
            "Epoch [100], Loss: 0.3106, Validation Loss: 0.3733,----- Accuracy: 0.8444, Validation Accuracy: 0.8346\n",
            "Epoch [105], Loss: 0.3013, Validation Loss: 0.3656,----- Accuracy: 0.8509, Validation Accuracy: 0.8268\n",
            "Epoch [110], Loss: 0.2914, Validation Loss: 0.3755,----- Accuracy: 0.8594, Validation Accuracy: 0.8268\n",
            "Epoch [115], Loss: 0.2773, Validation Loss: 0.3636,----- Accuracy: 0.8710, Validation Accuracy: 0.8268\n",
            "Epoch [120], Loss: 0.2660, Validation Loss: 0.3642,----- Accuracy: 0.8746, Validation Accuracy: 0.8268\n",
            "Epoch [125], Loss: 0.2549, Validation Loss: 0.3601,----- Accuracy: 0.8820, Validation Accuracy: 0.8425\n",
            "Epoch [130], Loss: 0.2410, Validation Loss: 0.3579,----- Accuracy: 0.8925, Validation Accuracy: 0.8583\n",
            "Epoch [135], Loss: 0.2280, Validation Loss: 0.3624,----- Accuracy: 0.8970, Validation Accuracy: 0.8504\n",
            "Epoch [140], Loss: 0.2154, Validation Loss: 0.3638,----- Accuracy: 0.9060, Validation Accuracy: 0.8504\n",
            "Epoch [145], Loss: 0.1977, Validation Loss: 0.3635,----- Accuracy: 0.9156, Validation Accuracy: 0.8583\n",
            "Epoch [150], Loss: 0.1841, Validation Loss: 0.3743,----- Accuracy: 0.9207, Validation Accuracy: 0.8583\n",
            "Epoch [155], Loss: 0.1706, Validation Loss: 0.3708,----- Accuracy: 0.9290, Validation Accuracy: 0.8661\n",
            "Epoch [160], Loss: 0.1567, Validation Loss: 0.3717,----- Accuracy: 0.9362, Validation Accuracy: 0.8740\n",
            "Epoch [165], Loss: 0.1452, Validation Loss: 0.3770,----- Accuracy: 0.9416, Validation Accuracy: 0.8661\n",
            "Epoch [170], Loss: 0.1306, Validation Loss: 0.3832,----- Accuracy: 0.9490, Validation Accuracy: 0.8740\n",
            "Epoch [175], Loss: 0.1158, Validation Loss: 0.3820,----- Accuracy: 0.9548, Validation Accuracy: 0.8819\n",
            "Epoch [180], Loss: 0.1081, Validation Loss: 0.3976,----- Accuracy: 0.9594, Validation Accuracy: 0.8583\n",
            "Epoch [185], Loss: 0.0990, Validation Loss: 0.4153,----- Accuracy: 0.9632, Validation Accuracy: 0.8740\n",
            "Epoch [190], Loss: 0.0877, Validation Loss: 0.4381,----- Accuracy: 0.9680, Validation Accuracy: 0.8740\n",
            "Epoch [195], Loss: 0.0767, Validation Loss: 0.4400,----- Accuracy: 0.9722, Validation Accuracy: 0.8819\n"
          ]
        }
      ]
    },
    {
      "cell_type": "markdown",
      "source": [
        "**5.4 Test the model**"
      ],
      "metadata": {
        "id": "HrgXFRXEqnxZ"
      }
    },
    {
      "cell_type": "code",
      "source": [
        "with torch.no_grad():\n",
        "    outputs = model(x_test)\n",
        "    predictions = torch.argmax(outputs, axis=1)\n",
        "    accuracy = metric(predictions, y_test)\n",
        "    print(f\"Test Accuracy: {accuracy * 100:.2f}%\")"
      ],
      "metadata": {
        "colab": {
          "base_uri": "https://localhost:8080/"
        },
        "id": "vL_EZ2tiqNEa",
        "outputId": "6348bf2b-3687-4763-da77-a0822e843cc7"
      },
      "execution_count": 225,
      "outputs": [
        {
          "output_type": "stream",
          "name": "stdout",
          "text": [
            "Test Accuracy: 88.98%\n"
          ]
        }
      ]
    }
  ]
}