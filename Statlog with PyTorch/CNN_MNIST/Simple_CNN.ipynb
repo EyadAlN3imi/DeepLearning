{
  "cells": [
    {
      "cell_type": "markdown",
      "source": [
        "# Step 1: Setting Up the Environment"
      ],
      "metadata": {
        "id": "_EH3dUFvhpTQ"
      }
    },
    {
      "cell_type": "code",
      "execution_count": 93,
      "metadata": {
        "id": "UN7ksInKGWCw"
      },
      "outputs": [],
      "source": [
        "import torch\n",
        "import torch.nn as nn\n",
        "import torch.optim as optim\n",
        "import torchvision\n",
        "import torchvision.transforms as transforms\n",
        "from torch.utils.data import DataLoader\n",
        "from torchvision.datasets import MNIST"
      ]
    },
    {
      "cell_type": "markdown",
      "source": [
        "# Step 2: Load and apply data augmentation"
      ],
      "metadata": {
        "id": "wp19zQp8h6yh"
      }
    },
    {
      "cell_type": "code",
      "execution_count": 94,
      "metadata": {
        "id": "SW9HP6i1G1cR"
      },
      "outputs": [],
      "source": [
        "transform = transforms.Compose([\n",
        "    transforms.RandomRotation(degrees=30),\n",
        "    transforms.RandomHorizontalFlip(p=0.3),\n",
        "    transforms.ToTensor(),\n",
        "    transforms.Normalize((0.5), (0.5))\n",
        "])\n",
        "\n",
        "train_root = MNIST(root='./data',download=True,train=True,transform=transform)\n",
        "test_root = MNIST(root='./data',download=True,train=False,transform=transform)\n",
        "\n",
        "train = DataLoader(train_root,batch_size=1024,shuffle=True) #batch size 1024 to make the training fast\n",
        "test = DataLoader(test_root,batch_size=1024,shuffle=False)"
      ]
    },
    {
      "cell_type": "markdown",
      "source": [
        "# Step 3: Build a simple CNN"
      ],
      "metadata": {
        "id": "QqHkK7kmiDcZ"
      }
    },
    {
      "cell_type": "code",
      "execution_count": 95,
      "metadata": {
        "id": "4BqMvV71MXzK"
      },
      "outputs": [],
      "source": [
        "class CNN(nn.Module):\n",
        "    def __init__(self):\n",
        "      super().__init__()\n",
        "      self.conv1 = nn.Conv2d(in_channels=1,out_channels=12,kernel_size=3,padding=1)\n",
        "      self.conv2 = nn.Conv2d(in_channels=12,out_channels=24,kernel_size=3,padding=1)\n",
        "      self.conv3 = nn.Conv2d(in_channels=24,out_channels=36,kernel_size=3,padding=1)\n",
        "      self.fc1 = nn.Linear(36 * 3 * 3, 48)\n",
        "      self.fc2 = nn.Linear(48, 10)\n",
        "      self.maxpool = nn.MaxPool2d(kernel_size=2,stride=2)\n",
        "      self.relu = nn.ReLU()\n",
        "\n",
        "    def forward(self,x):\n",
        "      x = self.maxpool(self.relu(self.conv1(x)))\n",
        "      x = self.maxpool(self.relu(self.conv2(x)))\n",
        "      x = self.maxpool(self.relu(self.conv3(x)))\n",
        "      x = torch.flatten(x,start_dim=1)\n",
        "      x = self.relu(self.fc1(x))\n",
        "      x = self.fc2(x)\n",
        "      return x\n",
        "\n",
        "model = CNN()"
      ]
    },
    {
      "cell_type": "markdown",
      "source": [
        "# Step 4: Get the optimizer and CrossEntropyLoss to update the params"
      ],
      "metadata": {
        "id": "lPldtJEiiM0l"
      }
    },
    {
      "cell_type": "code",
      "execution_count": 96,
      "metadata": {
        "id": "6l1zDcuhNt9w"
      },
      "outputs": [],
      "source": [
        "criterion = nn.CrossEntropyLoss()\n",
        "opt = optim.Adam(model.parameters(),lr=0.01)"
      ]
    },
    {
      "cell_type": "markdown",
      "source": [
        "# Step 5: Train the network"
      ],
      "metadata": {
        "id": "IjSpfosDikPE"
      }
    },
    {
      "cell_type": "code",
      "execution_count": 97,
      "metadata": {
        "id": "qHsPHudXN3D9"
      },
      "outputs": [],
      "source": [
        "def training(epo=5):\n",
        "  for e in range(epo):\n",
        "    run_loss = 0\n",
        "    for img,label in train:\n",
        "      opt.zero_grad()\n",
        "      output = model(img)\n",
        "      loss = criterion(output,label)\n",
        "      loss.backward()\n",
        "      opt.step()\n",
        "      run_loss += loss\n",
        "    print(f\"epo: {e+1} --- loss: {run_loss/len(train):.2f}\")"
      ]
    },
    {
      "cell_type": "code",
      "execution_count": 98,
      "metadata": {
        "colab": {
          "base_uri": "https://localhost:8080/"
        },
        "id": "A93i_eobPXF_",
        "outputId": "ee35dc13-cc08-4c30-808c-d3dbac16f219"
      },
      "outputs": [
        {
          "output_type": "stream",
          "name": "stdout",
          "text": [
            "epo: 1 --- loss: 0.99\n",
            "epo: 2 --- loss: 0.31\n",
            "epo: 3 --- loss: 0.22\n",
            "epo: 4 --- loss: 0.18\n",
            "epo: 5 --- loss: 0.15\n"
          ]
        }
      ],
      "source": [
        "training()"
      ]
    },
    {
      "cell_type": "markdown",
      "source": [
        "# Step 6: Validation Loop"
      ],
      "metadata": {
        "id": "avjzemnTiv-8"
      }
    },
    {
      "cell_type": "code",
      "source": [
        "def eval_model():\n",
        "    val_loss = 0\n",
        "    with torch.no_grad():\n",
        "        for img,label in test:\n",
        "            output = model(img)\n",
        "            loss = criterion(output, label)\n",
        "            val_loss += loss.item()\n",
        "        print(f\"Validation Loss {val_loss/len(test):0.2f}\")"
      ],
      "metadata": {
        "id": "e5Fqc0z4fIye"
      },
      "execution_count": 99,
      "outputs": []
    },
    {
      "cell_type": "code",
      "source": [
        "eval_model()"
      ],
      "metadata": {
        "colab": {
          "base_uri": "https://localhost:8080/"
        },
        "id": "_B0TUUvhhFfX",
        "outputId": "31f71c3a-5356-4685-e62e-61379cdd1868"
      },
      "execution_count": 100,
      "outputs": [
        {
          "output_type": "stream",
          "name": "stdout",
          "text": [
            "Validation Loss 0.13\n"
          ]
        }
      ]
    },
    {
      "cell_type": "markdown",
      "source": [
        "# Step 7: plot the result"
      ],
      "metadata": {
        "id": "_FB3Mi2mjkEP"
      }
    },
    {
      "cell_type": "code",
      "source": [
        "import matplotlib.pyplot as plt\n",
        "import numpy as np\n",
        "\n",
        "def plot_predictions(num_images=5):\n",
        "    fig, axes = plt.subplots(1, num_images, figsize=(15, 5))\n",
        "    with torch.no_grad():\n",
        "        for i, (img, label) in enumerate(test):\n",
        "            if i >= num_images:\n",
        "                break\n",
        "            output = model(img[0].unsqueeze(0))\n",
        "            predicted_class = torch.argmax(output).item()\n",
        "\n",
        "            image = img[0].squeeze().numpy()\n",
        "            axes[i].imshow(image, cmap='gray')\n",
        "            axes[i].axis('off')\n",
        "            axes[i].set_title(f\"Predicted: {predicted_class}, Actual: {label[0].item()}\")\n",
        "    plt.show()\n",
        "\n",
        "plot_predictions(5)\n"
      ],
      "metadata": {
        "colab": {
          "base_uri": "https://localhost:8080/",
          "height": 259
        },
        "id": "OuHQ1Pzcjjpy",
        "outputId": "34b3804b-fc80-4e6c-f378-f33147484478"
      },
      "execution_count": 104,
      "outputs": [
        {
          "output_type": "display_data",
          "data": {
            "text/plain": [
              "<Figure size 1500x500 with 5 Axes>"
            ],
            "image/png": "[encoded data removed]"
          },
          "metadata": {}
        }
      ]
    }
  ],
  "metadata": {
    "accelerator": "GPU",
    "colab": {
      "gpuType": "T4",
      "provenance": []
    },
    "kernelspec": {
      "display_name": "Python 3",
      "name": "python3"
    },
    "language_info": {
      "name": "python"
    }
  },
  "nbformat": 4,
  "nbformat_minor": 0
}